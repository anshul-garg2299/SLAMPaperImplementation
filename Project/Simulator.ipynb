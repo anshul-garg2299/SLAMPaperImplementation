{
 "cells": [
  {
   "cell_type": "code",
   "execution_count": 60,
   "metadata": {},
   "outputs": [],
   "source": [
    "import numpy as np\n",
    "import math\n",
    "import matplotlib.pyplot as plt\n",
    "%matplotlib inline\n",
    "import csv\n",
    "\n",
    "from random import seed\n",
    "from random import gauss\n",
    "import random \n",
    "random.seed(5)\n",
    "    \n",
    "from shapely.ops import polygonize\n",
    "from shapely.geometry import Polygon\n",
    "from shapely.geometry import MultiPolygon\n",
    "from shapely.geometry import MultiLineString\n",
    "from shapely.geometry import CAP_STYLE, JOIN_STYLE\n",
    "from shapely.ops import cascaded_union\n",
    "from shapely.geometry import box\n",
    "from shapely.geometry import LineString\n",
    "from shapely.geometry import LinearRing\n",
    "from shapely.geometry import Point\n",
    "from shapely.geometry import MultiPoint"
   ]
  },
  {
   "cell_type": "code",
   "execution_count": 63,
   "metadata": {},
   "outputs": [],
   "source": [
    "class vector(object):\n",
    "    def __init__(self,x,y):\n",
    "        self.x = float(x)\n",
    "        self.y = float(y)\n",
    "    def get_angle(self):\n",
    "        return(np.angle(self.x + self.y*1j)) #Check\n",
    "    def get_length(self):\n",
    "        return math.sqrt(self.x*self.x + self.y*self.y)\n",
    "    def set_angle(self,angle):\n",
    "        l = self.get_length()\n",
    "        self.x = math.cos(angle)*l\n",
    "        self.y = math.sin(angle)*l\n",
    "    def set_length(self,l):\n",
    "        angle = self.get_angle()\n",
    "        self.x = math.cos(angle)*l\n",
    "        self.y = math.sin(angle)*l\n",
    "    def add_v(self,v):\n",
    "        self.x += v.x\n",
    "        self.y += v.y\n",
    "    def sub_v(self,v):\n",
    "        self.x -= v.x\n",
    "        self.y -= v.y\n",
    "    def sclar_multi(self,k):\n",
    "        self.x = self.x*k\n",
    "        self.y = self.y*k\n",
    "    def rotate_vector(self,angle,clockwise):\n",
    "        if clockwise:\n",
    "            self.set_angle(self.get_angle() - angle)\n",
    "        else:\n",
    "            self.set_angle(self.get_angle() + angle)"
   ]
  },
  {
   "cell_type": "code",
   "execution_count": 66,
   "metadata": {},
   "outputs": [],
   "source": [
    "class line(object):\n",
    "    def __init__(self,point1,point2):\n",
    "        self.x1 = float(point1[0])\n",
    "        self.x2 = float(point2[0])\n",
    "        self.y1 = float(point1[1])\n",
    "        self.y2 = float(point2[1])\n",
    "        self.d = math.sqrt((self.y2-self.y1)*(self.y2-self.y1) + (self.x2-self.x1)*(self.x2-self.x1))\n",
    "        if self.x1 == self.x2:\n",
    "            self.m = float(1000000)\n",
    "        else:\n",
    "            self.m = float((self.y2 - self.y1)/(self.x2 - self.x1))\n",
    "        self.c = float((self.y1 - self.m*self.x1))\n",
    "    def distance_from_line(self,point):\n",
    "        return abs((self.m*point[0] -  point[1] + self.c)/math.sqrt(1 + self.m*self.m))    "
   ]
  },
  {
   "cell_type": "code",
   "execution_count": 69,
   "metadata": {},
   "outputs": [],
   "source": [
    "def plot_coords(coords):\n",
    "    pts = list(coords)\n",
    "    x,y = zip(*pts)\n",
    "    plt.plot(x,y)\n",
    "    \n",
    "def plot_polys(polys):\n",
    "\n",
    "    plot_coords(polys.exterior.coords)\n",
    "\n",
    "    for hole in polys.interiors:\n",
    "        plot_coords(hole.coords)\n",
    "\n",
    "def plot_ring(ring):\n",
    "    plot_coords(ring.coords)"
   ]
  },
  {
   "cell_type": "code",
   "execution_count": null,
   "metadata": {},
   "outputs": [],
   "source": [
    "def line_intersect(m1, b1, m2, b2):\n",
    "    if m1 == m2:\n",
    "        print (\"These lines are parallel!!!\")\n",
    "        return None\n",
    "    x = (b2 - b1) / (m1 - m2)\n",
    "    y = m1 * x + b1\n",
    "    return x,y"
   ]
  },
  {
   "cell_type": "code",
   "execution_count": null,
   "metadata": {},
   "outputs": [],
   "source": [
    "def distance_points(x1,y1,x2,y2):\n",
    "    return math.sqrt((x1-x2)*(x1-x2) + (y1-y2)*(y1-y2)) "
   ]
  },
  {
   "cell_type": "code",
   "execution_count": null,
   "metadata": {},
   "outputs": [],
   "source": [
    "def generate_polygon(n = 10,u =1):\n",
    "    \n",
    "    angle = 2*math.pi/n\n",
    "    coords = []\n",
    "    for i in range(n):\n",
    "        length = abs(gauss(u,1)) #Ye shi karna baaki hai\n",
    "        \n",
    "        coords.append((length*math.cos(i*angle),length*math.sin(i*angle)))\n",
    "    return coords  "
   ]
  },
  {
   "cell_type": "code",
   "execution_count": null,
   "metadata": {
    "scrolled": true
   },
   "outputs": [],
   "source": [
    "polygons = []\n",
    "for i in range(100):\n",
    "    coords = generate_polygon(10)\n",
    "    r = LinearRing(coords)\n",
    "    s = Polygon(r)\n",
    "    polygons.append(s)\n",
    "    plot_polys(s)\n",
    "    plt.show()"
   ]
  },
  {
   "cell_type": "code",
   "execution_count": null,
   "metadata": {},
   "outputs": [],
   "source": [
    "def random_p(polygon):\n",
    "    return polygon.representative_point()\n",
    "    \n",
    "def inside_polygon(polygon,point):\n",
    "    return polygon.contains(point)\n",
    "\n",
    "def inside_polygon_1(polygon,vector):\n",
    "    point = Point(vector.x,vector.y)\n",
    "    return polygon.contains(point)\n",
    "\n",
    "#def random_velocity(u = 0,v = 0):\n",
    "   # return (abs(u + gauss(0,1)),abs(v+ gauss(0,1)))\n",
    "    \n",
    "\n",
    "\n"
   ]
  },
  {
   "cell_type": "code",
   "execution_count": 72,
   "metadata": {},
   "outputs": [
    {
     "data": {
      "image/png": "[encoded data removed]",
      "text/plain": [
       "<Figure size 432x288 with 1 Axes>"
      ]
     },
     "metadata": {
      "needs_background": "light"
     },
     "output_type": "display_data"
    }
   ],
   "source": [
    "coords = generate_polygon()\n",
    "r = LinearRing(coords)\n",
    "polygon = Polygon(r)\n",
    "plot_polys(polygon)\n",
    "plt.show()\n",
    "line_segments = []\n",
    "for i in range(9):\n",
    "    l = line(coords[i],coords[i+1])\n",
    "    line_segments.append(l)\n",
    "l = line(coords[9],coords[0])\n",
    "line_segments.append(l)"
   ]
  },
  {
   "cell_type": "code",
   "execution_count": null,
   "metadata": {},
   "outputs": [],
   "source": [
    "def collision_data_f(position,prev,line_segments,velocity):\n",
    "    point = [position.x,position.y]\n",
    "    minm_distance = line_segments[9].distance_from_line(point)\n",
    "    index = 9\n",
    "    \n",
    "    for i in range(9):\n",
    "        if (line_segments[i].distance_from_line(point) < minm_distance):\n",
    "            index = i\n",
    "            minm_distance = line_segments[i].distance_from_line(point)\n",
    "    d = line_segments[index].d\n",
    "    #m_rad = math.atan(line_segments[index].m)\n",
    "    prev_tuple = (prev.x,prev.y)\n",
    "    position_tuple = (position.x,position.y)\n",
    "    velocity_line = line(prev_tuple,position_tuple)\n",
    "    intersect = line_intersect(velocity_line.m,velocity_line.c,line_segments[index].m, line_segments[index].c)\n",
    "    acute_angle = math.atan(abs((velocity_line.m - line_segments[index].m)/(1 + line_segments[index].m*velocity_line.m)))\n",
    "    #print(acute_angle)\n",
    "    d1 = distance_points(intersect[0],intersect[1], line_segments[index].x1,line_segments[index].y1)\n",
    "    d2 = distance_points(intersect[0],intersect[1], prev.x, prev.y)\n",
    "    d3 = distance_points(prev.x,prev.y, line_segments[index].x1,line_segments[index].y1)\n",
    "    #print(d1,d1*d1,d2,d2*d2,d3,d3*d3)\n",
    "    #print(d1*d1+d2*d2)\n",
    "    #print(d3*d3)\n",
    "    if ((d1*d1 + d2*d2) < d3*d3):\n",
    "        angle = math.pi - acute_angle\n",
    "    else:\n",
    "        angle = acute_angle\n",
    "    return (d,angle,i)\n",
    "    "
   ]
  },
  {
   "cell_type": "code",
   "execution_count": 96,
   "metadata": {},
   "outputs": [
    {
     "ename": "AttributeError",
     "evalue": "'list' object has no attribute 'len'",
     "output_type": "error",
     "traceback": [
      "\u001b[1;31m---------------------------------------------------------------------------\u001b[0m",
      "\u001b[1;31mAttributeError\u001b[0m                            Traceback (most recent call last)",
      "\u001b[1;32m<ipython-input-96-e090c1a97bb6>\u001b[0m in \u001b[0;36m<module>\u001b[1;34m\u001b[0m\n\u001b[0;32m     45\u001b[0m             \u001b[1;31m#print(position.x,position.y, \" position coordinates\")\u001b[0m\u001b[1;33m\u001b[0m\u001b[1;33m\u001b[0m\u001b[1;33m\u001b[0m\u001b[0m\n\u001b[0;32m     46\u001b[0m     \u001b[1;31m#print(collision_data)\u001b[0m\u001b[1;33m\u001b[0m\u001b[1;33m\u001b[0m\u001b[1;33m\u001b[0m\u001b[0m\n\u001b[1;32m---> 47\u001b[1;33m     \u001b[0mprint\u001b[0m\u001b[1;33m(\u001b[0m\u001b[0mcollision_index\u001b[0m\u001b[1;33m.\u001b[0m\u001b[0mlen\u001b[0m\u001b[1;33m(\u001b[0m\u001b[1;33m)\u001b[0m\u001b[1;33m)\u001b[0m\u001b[1;33m\u001b[0m\u001b[1;33m\u001b[0m\u001b[0m\n\u001b[0m",
      "\u001b[1;31mAttributeError\u001b[0m: 'list' object has no attribute 'len'"
     ]
    }
   ],
   "source": [
    "for iteration_number in range(5000): \n",
    "        #print(position.x, position.y)\n",
    "    random_angle = 2*math.pi*random.random()\n",
    "    velocity = vector(1,1)\n",
    "    velocity.set_angle(random_angle)\n",
    "    velocity.set_length(0.01)\n",
    "    random_point = random_p(polygon)\n",
    "    \n",
    "    position = vector(random_point.x,random_point.y)\n",
    "\n",
    "    speed_i = []\n",
    "    angle_i = []\n",
    "    collision_data = []\n",
    "    prevx = 0\n",
    "    prevy = 0\n",
    "    collision_count = 0\n",
    "    collision_index = []\n",
    "\n",
    "    #while collision_count < 20:\n",
    "    for i in range(200):\n",
    "        prevx = position.x\n",
    "        prevy = position.y\n",
    "        position.add_v(velocity)\n",
    "        #print(position.x,position.y)\n",
    "\n",
    "        if inside_polygon_1(polygon,position):\n",
    "            continue\n",
    "        else:\n",
    "            #print(\"This is collision number \",collision_count+1)\n",
    "            #print(position.x,position.y, \" position coordinates\")\n",
    "            prev = vector(prevx,prevy)\n",
    "            #print(prev.x,prev.y,\"   prev coordinates \")\n",
    "            #print(velocity.x,velocity.y,\" velocity\")\n",
    "            collision_data.append(collision_data_f(position,prev,line_segments,velocity))\n",
    "            collision_index.append(i)\n",
    "            angle = collision_data[collision_count][1]\n",
    "            #print(angle)\n",
    "            velocity.rotate_vector(math.pi + 2*angle,False)\n",
    "            velocity.x = 0 - velocity.x\n",
    "            velocity.y = 0 - velocity.y\n",
    "            #print(velocity.x,velocity.y,\" velocity new\")\n",
    "            collision_count = collision_count+1\n",
    "            position.x = prevx\n",
    "            position.y = prevy\n",
    "            #print(position.x,position.y, \" position coordinates\")\n",
    "    #print(collision_data)\n",
    "    print(len(final_x_y))"
   ]
  },
  {
   "cell_type": "code",
   "execution_count": 81,
   "metadata": {},
   "outputs": [],
   "source": [
    "for i in range(collision_count):\n",
    "    row = collision_data[i]\n",
    "    with open('CollisionData.csv', 'a') as csvFile:\n",
    "        writer = csv.writer(csvFile)\n",
    "        writer.writerow(row)\n",
    "    csvFile.close()"
   ]
  },
  {
   "cell_type": "code",
   "execution_count": null,
   "metadata": {},
   "outputs": [],
   "source": [
    "\n",
    "for i in range(collision_count):\n",
    "    import csv\n",
    "    csvData = collision_data[i]\n",
    "    with open('person.csv', 'w') as csvFile:\n",
    "        writer = csv.writer(csvFile)\n",
    "        writer.writerows(csvData)\n",
    "    csvFile.close()"
   ]
  },
  {
   "cell_type": "code",
   "execution_count": null,
   "metadata": {},
   "outputs": [],
   "source": []
  }
 ],
 "metadata": {
  "kernelspec": {
   "display_name": "Python 3",
   "language": "python",
   "name": "python3"
  },
  "language_info": {
   "codemirror_mode": {
    "name": "ipython",
    "version": 3
   },
   "file_extension": ".py",
   "mimetype": "text/x-python",
   "name": "python",
   "nbconvert_exporter": "python",
   "pygments_lexer": "ipython3",
   "version": "3.7.3"
  }
 },
 "nbformat": 4,
 "nbformat_minor": 2
}
