{
 "cells": [
  {
   "cell_type": "code",
   "execution_count": 1,
   "metadata": {},
   "outputs": [
    {
     "name": "stderr",
     "output_type": "stream",
     "text": [
      "Using TensorFlow backend.\n"
     ]
    }
   ],
   "source": [
    "import tensorflow as tf\n",
    "import keras\n",
    "from tensorflow.keras.models import Sequential\n",
    "from tensorflow.keras.layers import Dense,LSTM\n",
    "import pandas as pd\n",
    "import numpy as np\n",
    "import matplotlib.pyplot as plt\n",
    "%matplotlib inline\n",
    "#from sklearn.preprocessing import MinMaxScalar,LabelEncoder"
   ]
  },
  {
   "cell_type": "code",
   "execution_count": 5,
   "metadata": {},
   "outputs": [],
   "source": [
    "data = pd.read_csv(\"task2.csv\", header=None, names=['speed','vangle','index','d','beta','true_x','true_y'])\n",
    "samples=[]\n",
    "length = 50000\n",
    "step = 20\n",
    "for i in range(0,length*step,step):\n",
    "    sample=np.array(data[i:(i+step)])\n",
    "    samples.append(sample)\n",
    "data=np.asarray(samples)\n",
    "np.random.shuffle(data)\n",
    "\n",
    "truth = []\n",
    "for i in range(length):\n",
    "    truth.append([data[i][0][5],data[i][0][6]])\n",
    "    \n",
    "truth = np.asarray(truth)\n",
    "data = data[:,:,:5]\n",
    "\n",
    "truth_train = truth[:49000,:]\n",
    "data_train = data[:49000,:,:]\n",
    "truth_test = truth[49000:,:]\n",
    "data_test = data[49000:,:,:]\n"
   ]
  },
  {
   "cell_type": "code",
   "execution_count": null,
   "metadata": {},
   "outputs": [
    {
     "name": "stdout",
     "output_type": "stream",
     "text": [
      "Train on 49000 samples, validate on 1000 samples\n",
      "45904/49000 [===========================>..] - ETA: 4:13 - loss: 0.3378 - acc: 0.5027"
     ]
    }
   ],
   "source": [
    "model = Sequential()\n",
    "model.add(LSTM(256,input_shape=(20,5)))\n",
    "model.add(Dense(2))\n",
    "#model.summary()\n",
    "model.compile(loss='mse',metrics=['accuracy'],optimizer = 'adam')\n",
    "model.fit(data_train,truth_train,epochs =1, batch_size = 1,validation_data = (data_test,truth_test))\n",
    "\n",
    "score = model.evaluate(data_test,truth_test)\n",
    "print(score)"
   ]
  },
  {
   "cell_type": "code",
   "execution_count": null,
   "metadata": {},
   "outputs": [],
   "source": []
  }
 ],
 "metadata": {
  "kernelspec": {
   "display_name": "Python 3",
   "language": "python",
   "name": "python3"
  },
  "language_info": {
   "codemirror_mode": {
    "name": "ipython",
    "version": 3
   },
   "file_extension": ".py",
   "mimetype": "text/x-python",
   "name": "python",
   "nbconvert_exporter": "python",
   "pygments_lexer": "ipython3",
   "version": "3.7.4"
  }
 },
 "nbformat": 4,
 "nbformat_minor": 2
}
