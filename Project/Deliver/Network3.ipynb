{
 "cells": [
  {
   "cell_type": "code",
   "execution_count": 1,
   "metadata": {},
   "outputs": [
    {
     "name": "stderr",
     "output_type": "stream",
     "text": [
      "Using TensorFlow backend.\n"
     ]
    }
   ],
   "source": [
    "import tensorflow as tf\n",
    "import keras\n",
    "from tensorflow.keras.models import Sequential\n",
    "from tensorflow.keras.layers import Dense,LSTM\n",
    "import pandas as pd\n",
    "import numpy as np\n",
    "import matplotlib.pyplot as plt\n",
    "%matplotlib inline\n",
    "#from sklearn.preprocessing import MinMaxScalar,LabelEncoder"
   ]
  },
  {
   "cell_type": "code",
   "execution_count": 2,
   "metadata": {},
   "outputs": [],
   "source": [
    "data = pd.read_csv(\"task3_noise.csv\", header=None)\n",
    "samples=[]\n",
    "length = 5000\n",
    "step = 20\n",
    "for i in range(0,length*step,step):\n",
    "    sample=np.array(data[i:(i+step)])\n",
    "    samples.append(sample)\n",
    "data=np.asarray(samples)\n",
    "np.random.shuffle(data)\n",
    "\n",
    "truth = []\n",
    "for i in range(length):\n",
    "    truth.append(data[i][0][0:100])\n",
    "    \n",
    "truth = np.asarray(truth)\n",
    "data = data[:,:,100:105]\n",
    "\n",
    "truth_train = truth[:4500,:]\n",
    "data_train = data[:4500,:,:]\n",
    "truth_test = truth[4500:,:]\n",
    "data_test = data[4500:,:,:]\n",
    "\n",
    "\n",
    "\n"
   ]
  },
  {
   "cell_type": "code",
   "execution_count": null,
   "metadata": {},
   "outputs": [
    {
     "name": "stdout",
     "output_type": "stream",
     "text": [
      "Model: \"sequential\"\n",
      "_________________________________________________________________\n",
      "Layer (type)                 Output Shape              Param #   \n",
      "=================================================================\n",
      "lstm (LSTM)                  (None, 256)               268288    \n",
      "_________________________________________________________________\n",
      "dense (Dense)                (None, 100)               25700     \n",
      "=================================================================\n",
      "Total params: 293,988\n",
      "Trainable params: 293,988\n",
      "Non-trainable params: 0\n",
      "_________________________________________________________________\n",
      "Train on 4500 samples, validate on 500 samples\n",
      "2760/4500 [=================>............] - ETA: 31s - loss: 4.8631 - accuracy: 0.0152"
     ]
    }
   ],
   "source": [
    "model = Sequential()\n",
    "model.add(LSTM(256,input_shape=(20,5)))\n",
    "model.add(Dense(100,activation='softmax'))\n",
    "model.summary()\n",
    "model.compile(loss='categorical_crossentropy',metrics=['accuracy'],optimizer = 'adam')\n",
    "model.fit(data_train,truth_train,epochs =1, batch_size = 1,validation_data = (data_test,truth_test))\n",
    "\n",
    "score = model.evaluate(data_test,truth_test)\n",
    "print(score)"
   ]
  },
  {
   "cell_type": "code",
   "execution_count": null,
   "metadata": {},
   "outputs": [],
   "source": []
  }
 ],
 "metadata": {
  "kernelspec": {
   "display_name": "Python 3",
   "language": "python",
   "name": "python3"
  },
  "language_info": {
   "codemirror_mode": {
    "name": "ipython",
    "version": 3
   },
   "file_extension": ".py",
   "mimetype": "text/x-python",
   "name": "python",
   "nbconvert_exporter": "python",
   "pygments_lexer": "ipython3",
   "version": "3.7.3"
  }
 },
 "nbformat": 4,
 "nbformat_minor": 2
}
